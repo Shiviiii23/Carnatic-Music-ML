{
 "cells": [
  {
   "cell_type": "code",
   "execution_count": null,
   "metadata": {},
   "outputs": [],
   "source": [
    "#tensor flow\n",
    "# LSTM in tensor flow\n",
    "\n",
    "#use it for time series data\n",
    "#what happens \n",
    "# extract fourier series from the music\n",
    "# fourier transform will pull out the patterns\n",
    "# look into \n",
    "# must feed in the right features\n",
    "# used fourier transform - didn't have to normalize \n",
    "# https://towardsdatascience.com/recurrent-neural-nets-for-audio-classification-81cb62327990\n",
    "\n",
    "# next steps:\n",
    "# figure out what to extract from audio files \n",
    "# get the data ready\n",
    "# then can start coding the neural network\n",
    "# learn how to use tensor flow\n",
    "# "
   ]
  }
 ],
 "metadata": {
  "kernelspec": {
   "display_name": "Python 3",
   "language": "python",
   "name": "python3"
  },
  "language_info": {
   "codemirror_mode": {
    "name": "ipython",
    "version": 3
   },
   "file_extension": ".py",
   "mimetype": "text/x-python",
   "name": "python",
   "nbconvert_exporter": "python",
   "pygments_lexer": "ipython3",
   "version": "3.8.3"
  }
 },
 "nbformat": 4,
 "nbformat_minor": 4
}
